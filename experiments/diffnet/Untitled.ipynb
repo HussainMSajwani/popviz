{
 "cells": [
  {
   "cell_type": "code",
   "execution_count": 1,
   "id": "c6519c61",
   "metadata": {},
   "outputs": [],
   "source": [
    "import numpy as np\n",
    "import keras.backend as K\n",
    "import tensorflow as tf\n",
    "\n",
    "import DiffusionNet.Diffusion as df\n",
    "import os.path\n",
    "from DiffusionNet.autoencoder import *\n",
    "\n",
    "import matplotlib.pyplot as plt\n",
    "from mpl_toolkits.mplot3d import Axes3D\n",
    "\n",
    "from keras.utils import np_utils\n",
    "from keras.layers import Dense, Input\n",
    "from keras.models import Model\n",
    "from keras import regularizers"
   ]
  },
  {
   "cell_type": "code",
   "execution_count": 4,
   "id": "9c51b214",
   "metadata": {},
   "outputs": [
    {
     "name": "stderr",
     "output_type": "stream",
     "text": [
      "/home/shussain/miniconda3/lib/python3.7/site-packages/ipykernel_launcher.py:3: DeprecationWarning: Call to deprecated function (or staticmethod) read_plink. (use function `read_plink1_bin` instead.) -- Deprecated since version 2.1.0.\n",
      "  This is separate from the ipykernel package so we can avoid doing imports until\n",
      "Mapping files: 100%|██████████| 3/3 [00:02<00:00,  1.28it/s]\n"
     ]
    }
   ],
   "source": [
    "from pandas_plink import read_plink\n",
    "\n",
    "bim, fam, bed = read_plink(\"/home/shussain/popviz/genomic_data/hgdp_QC_IMP\")\n"
   ]
  },
  {
   "cell_type": "code",
   "execution_count": 2,
   "id": "6006f77e",
   "metadata": {},
   "outputs": [],
   "source": [
    "from hands_io import get_data\n",
    "imgs, moves = get_data(\"Rock\")"
   ]
  },
  {
   "cell_type": "code",
   "execution_count": 5,
   "id": "f013d1f3",
   "metadata": {},
   "outputs": [],
   "source": [
    "from sklearn.model_selection import train_test_split\n",
    "\n",
    "X_train, X_test = train_test_split(bed.compute(), test_size=0.2, random_state=42)"
   ]
  },
  {
   "cell_type": "code",
   "execution_count": 3,
   "id": "3507f0fc-168a-4bdc-9b99-cabef79a5774",
   "metadata": {},
   "outputs": [],
   "source": [
    "from sklearn.datasets import make_blobs\n",
    "\n",
    "X, lab = make_blobs(n_features=100)"
   ]
  },
  {
   "cell_type": "code",
   "execution_count": 5,
   "id": "34d9ebe8",
   "metadata": {},
   "outputs": [
    {
     "name": "stderr",
     "output_type": "stream",
     "text": [
      "/home/shussain/popviz/experiments/diffnet/DiffusionNet/Diffusion.py:22: RuntimeWarning: divide by zero encountered in true_divide\n",
      "  Vecs = Vecs / Vecs[0,0]\n",
      "/home/shussain/popviz/experiments/diffnet/DiffusionNet/Diffusion.py:22: RuntimeWarning: invalid value encountered in true_divide\n",
      "  Vecs = Vecs / Vecs[0,0]\n",
      "/home/shussain/miniconda3/lib/python3.7/site-packages/ipykernel_launcher.py:6: RuntimeWarning: invalid value encountered in matmul\n",
      "  \n"
     ]
    }
   ],
   "source": [
    "embedding_size = 10\n",
    "k = 40\n",
    "K_mat = df.ComputeLBAffinity(X,k,sig=0.1)   # Laplace-Beltrami affinity: D^-1 * K * D^-1\n",
    "P     = df.makeRowStoch(K_mat)                     # markov matrix \n",
    "E1,v1 = df.Diffusion(K_mat, nEigenVals=embedding_size+1)  # eigenvalues and eigenvectors\n",
    "diff_embedding = np.matmul(E1, np.diag(v1)) # diffusion maps"
   ]
  },
  {
   "cell_type": "code",
   "execution_count": 6,
   "id": "d7eaad43",
   "metadata": {},
   "outputs": [
    {
     "data": {
      "text/plain": [
       "array([[1., 0., 0., ..., 0., 0., 0.],\n",
       "       [0., 1., 0., ..., 0., 0., 0.],\n",
       "       [0., 0., 1., ..., 0., 0., 0.],\n",
       "       ...,\n",
       "       [0., 0., 0., ..., 1., 0., 0.],\n",
       "       [0., 0., 0., ..., 0., 1., 0.],\n",
       "       [0., 0., 0., ..., 0., 0., 1.]])"
      ]
     },
     "execution_count": 6,
     "metadata": {},
     "output_type": "execute_result"
    }
   ],
   "source": [
    "P"
   ]
  },
  {
   "cell_type": "code",
   "execution_count": 9,
   "id": "9347682e",
   "metadata": {},
   "outputs": [
    {
     "data": {
      "text/plain": [
       "(array([3980.,    0.,    0.,    0.,    0.,    0.,    0.,    0.,    0.,\n",
       "          10.]),\n",
       " array([0. , 0.1, 0.2, 0.3, 0.4, 0.5, 0.6, 0.7, 0.8, 0.9, 1. ]),\n",
       " <BarContainer object of 10 artists>)"
      ]
     },
     "execution_count": 9,
     "metadata": {},
     "output_type": "execute_result"
    },
    {
     "data": {
      "image/png": "[encoded data removed]",
      "text/plain": [
       "<Figure size 432x288 with 1 Axes>"
      ]
     },
     "metadata": {
      "needs_background": "light"
     },
     "output_type": "display_data"
    }
   ],
   "source": [
    "plt.hist(E1.ravel())"
   ]
  },
  {
   "cell_type": "code",
   "execution_count": 19,
   "id": "55424df6",
   "metadata": {},
   "outputs": [
    {
     "data": {
      "text/plain": [
       "<matplotlib.image.AxesImage at 0x7fcacff408d0>"
      ]
     },
     "execution_count": 19,
     "metadata": {},
     "output_type": "execute_result"
    },
    {
     "data": {
      "image/png": "[encoded data removed]",
      "text/plain": [
       "<Figure size 432x288 with 1 Axes>"
      ]
     },
     "metadata": {
      "needs_background": "light"
     },
     "output_type": "display_data"
    }
   ],
   "source": [
    "plt.imshow(P)"
   ]
  }
 ],
 "metadata": {
  "kernelspec": {
   "display_name": "Python 3 (ipykernel)",
   "language": "python",
   "name": "python3"
  },
  "language_info": {
   "codemirror_mode": {
    "name": "ipython",
    "version": 3
   },
   "file_extension": ".py",
   "mimetype": "text/x-python",
   "name": "python",
   "nbconvert_exporter": "python",
   "pygments_lexer": "ipython3",
   "version": "3.7.9"
  }
 },
 "nbformat": 4,
 "nbformat_minor": 5
}
