{
 "cells": [
  {
   "cell_type": "code",
   "execution_count": 1,
   "id": "6ee50983-6bd4-480c-b6b0-f241832f85dd",
   "metadata": {},
   "outputs": [
    {
     "data": {
      "text/plain": [
       "(2504, 100)"
      ]
     },
     "execution_count": 1,
     "metadata": {},
     "output_type": "execute_result"
    }
   ],
   "source": [
    "from pandas import read_csv\n",
    "\n",
    "pcs = read_csv('plink.eigenvec', sep='\\s+', names=['_', 'ID'] + [f'PC_{i}' for i in range(1, 101)]).iloc[:, 2:].values\n",
    "pcs.shape"
   ]
  },
  {
   "cell_type": "code",
   "execution_count": 2,
   "id": "70cf4b98-bd0b-43d1-993c-f3d53d65c986",
   "metadata": {},
   "outputs": [],
   "source": [
    "from sklearn.metrics import euclidean_distances\n",
    "import numpy as np\n",
    "from tqdm.auto import tqdm\n",
    "\n",
    "def pairwise_euc(X):\n",
    "    chunks=np.array_split(np.arange(X.shape[1]), 30)\n",
    "    dists=[]\n",
    "    for chunk_index in tqdm(chunks):\n",
    "        chunk = X[:, chunk_index]\n",
    "        dists.append(euclidean_distances(chunk, squared=True))\n",
    "    return np.sqrt(sum(dists))"
   ]
  },
  {
   "cell_type": "code",
   "execution_count": 3,
   "id": "97319a4f-2f28-44a9-9430-febd67303f05",
   "metadata": {},
   "outputs": [
    {
     "data": {
      "application/vnd.jupyter.widget-view+json": {
       "model_id": "8b2f81ff64a344e7ac3410a09c1b7fb3",
       "version_major": 2,
       "version_minor": 0
      },
      "text/plain": [
       "  0%|          | 0/30 [00:00<?, ?it/s]"
      ]
     },
     "metadata": {},
     "output_type": "display_data"
    }
   ],
   "source": [
    "mine = pairwise_euc(pcs)"
   ]
  },
  {
   "cell_type": "code",
   "execution_count": null,
   "id": "0ac5025f-3723-4867-a03e-43a026fcd5ef",
   "metadata": {
    "tags": []
   },
   "outputs": [
    {
     "name": "stdout",
     "output_type": "stream",
     "text": [
      "Calculating PHATE...\n",
      "  Running PHATE on precomputed distance matrix with 2504 observations.\n",
      "  Calculating graph and diffusion operator...\n",
      "    Calculating affinities...\n",
      "    Calculated affinities in 0.63 seconds.\n",
      "  Calculated graph and diffusion operator in 0.82 seconds.\n",
      "  Calculating optimal t...\n"
     ]
    }
   ],
   "source": [
    "from phate import PHATE\n",
    "\n",
    "model = PHATE(knn_dist='precomputed', n_landmark=None)\n",
    "X_ph = model.fit_transform(mine)"
   ]
  },
  {
   "cell_type": "code",
   "execution_count": 6,
   "id": "07682f0e-904f-4c65-9553-ed7233745c79",
   "metadata": {},
   "outputs": [
    {
     "data": {
      "text/plain": [
       "(2000, 2000)"
      ]
     },
     "execution_count": 6,
     "metadata": {},
     "output_type": "execute_result"
    }
   ],
   "source": [
    "model.diff_op.shape"
   ]
  },
  {
   "cell_type": "code",
   "execution_count": 45,
   "id": "fdb0e867-0d24-45b4-92dd-286a8921966b",
   "metadata": {},
   "outputs": [
    {
     "name": "stderr",
     "output_type": "stream",
     "text": [
      "/home/shussain/miniconda3/lib/python3.7/site-packages/seaborn/_decorators.py:43: FutureWarning: Pass the following variables as keyword args: x, y. From version 0.12, the only valid positional argument will be `data`, and passing other arguments without an explicit keyword will result in an error or misinterpretation.\n",
      "  FutureWarning\n"
     ]
    },
    {
     "data": {
      "text/plain": [
       "<AxesSubplot:>"
      ]
     },
     "execution_count": 45,
     "metadata": {},
     "output_type": "execute_result"
    },
    {
     "data": {
      "image/png": "[encoded data removed]",
      "text/plain": [
       "<Figure size 432x288 with 1 Axes>"
      ]
     },
     "metadata": {
      "needs_background": "light"
     },
     "output_type": "display_data"
    }
   ],
   "source": [
    "import matplotlib.pyplot as plt\n",
    "import seaborn as sns\n",
    "\n",
    "sns.scatterplot(X_ph[:, 0], X_ph[:, 1])"
   ]
  }
 ],
 "metadata": {
  "kernelspec": {
   "display_name": "Python 3 (ipykernel)",
   "language": "python",
   "name": "python3"
  },
  "language_info": {
   "codemirror_mode": {
    "name": "ipython",
    "version": 3
   },
   "file_extension": ".py",
   "mimetype": "text/x-python",
   "name": "python",
   "nbconvert_exporter": "python",
   "pygments_lexer": "ipython3",
   "version": "3.7.9"
  }
 },
 "nbformat": 4,
 "nbformat_minor": 5
}
