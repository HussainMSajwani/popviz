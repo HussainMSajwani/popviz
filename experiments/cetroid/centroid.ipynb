{
 "cells": [
  {
   "cell_type": "code",
   "execution_count": 4,
   "id": "2afe9159",
   "metadata": {},
   "outputs": [
    {
     "data": {
      "text/plain": [
       "array([[2., 0., 2., ..., 1., 0., 0.],\n",
       "       [1., 0., 1., ..., 0., 0., 0.],\n",
       "       [0., 0., 1., ..., 1., 1., 0.],\n",
       "       ...,\n",
       "       [0., 1., 1., ..., 1., 0., 0.],\n",
       "       [0., 0., 0., ..., 1., 1., 1.],\n",
       "       [0., 2., 0., ..., 1., 0., 0.]], dtype=float32)"
      ]
     },
     "execution_count": 4,
     "metadata": {},
     "output_type": "execute_result"
    }
   ],
   "source": [
    "from bed_reader import open_bed\n",
    "\n",
    "bed = open_bed(\"/home/shussain/popviz/genomic_data/hgdp_QC_IMP.bed\").read()\n",
    "bed"
   ]
  },
  {
   "cell_type": "code",
   "execution_count": null,
   "id": "17574c84",
   "metadata": {},
   "outputs": [],
   "source": []
  },
  {
   "cell_type": "code",
   "execution_count": 6,
   "id": "81e6c7e4",
   "metadata": {},
   "outputs": [
    {
     "data": {
      "text/html": [
       "<div>\n",
       "<style scoped>\n",
       "    .dataframe tbody tr th:only-of-type {\n",
       "        vertical-align: middle;\n",
       "    }\n",
       "\n",
       "    .dataframe tbody tr th {\n",
       "        vertical-align: top;\n",
       "    }\n",
       "\n",
       "    .dataframe thead th {\n",
       "        text-align: right;\n",
       "    }\n",
       "</style>\n",
       "<table border=\"1\" class=\"dataframe\">\n",
       "  <thead>\n",
       "    <tr style=\"text-align: right;\">\n",
       "      <th></th>\n",
       "      <th>ID</th>\n",
       "      <th>Sex</th>\n",
       "      <th>population</th>\n",
       "      <th>geographic_origin</th>\n",
       "      <th>region</th>\n",
       "      <th>pop_group</th>\n",
       "    </tr>\n",
       "  </thead>\n",
       "  <tbody>\n",
       "    <tr>\n",
       "      <th>0</th>\n",
       "      <td>HGDP00448</td>\n",
       "      <td>M</td>\n",
       "      <td>Biaka_Pygmies</td>\n",
       "      <td>Central_African_Republic</td>\n",
       "      <td>Subsaharian_Africa</td>\n",
       "      <td>Africa</td>\n",
       "    </tr>\n",
       "    <tr>\n",
       "      <th>1</th>\n",
       "      <td>HGDP00479</td>\n",
       "      <td>M</td>\n",
       "      <td>Biaka_Pygmies</td>\n",
       "      <td>Central_African_Republic</td>\n",
       "      <td>Subsaharian_Africa</td>\n",
       "      <td>Africa</td>\n",
       "    </tr>\n",
       "    <tr>\n",
       "      <th>2</th>\n",
       "      <td>HGDP00985</td>\n",
       "      <td>M</td>\n",
       "      <td>Biaka_Pygmies</td>\n",
       "      <td>Central_African_Republic</td>\n",
       "      <td>Subsaharian_Africa</td>\n",
       "      <td>Africa</td>\n",
       "    </tr>\n",
       "    <tr>\n",
       "      <th>3</th>\n",
       "      <td>HGDP01094</td>\n",
       "      <td>M</td>\n",
       "      <td>Biaka_Pygmies</td>\n",
       "      <td>Central_African_Republic</td>\n",
       "      <td>Subsaharian_Africa</td>\n",
       "      <td>Africa</td>\n",
       "    </tr>\n",
       "    <tr>\n",
       "      <th>4</th>\n",
       "      <td>HGDP00982</td>\n",
       "      <td>M</td>\n",
       "      <td>Mbuti_Pygmies</td>\n",
       "      <td>Democratic_Republic_of_Congo</td>\n",
       "      <td>Subsaharian_Africa</td>\n",
       "      <td>Africa</td>\n",
       "    </tr>\n",
       "    <tr>\n",
       "      <th>...</th>\n",
       "      <td>...</td>\n",
       "      <td>...</td>\n",
       "      <td>...</td>\n",
       "      <td>...</td>\n",
       "      <td>...</td>\n",
       "      <td>...</td>\n",
       "    </tr>\n",
       "    <tr>\n",
       "      <th>1038</th>\n",
       "      <td>HGDP00953</td>\n",
       "      <td>M</td>\n",
       "      <td>Yakut</td>\n",
       "      <td>Siberia</td>\n",
       "      <td>Asia</td>\n",
       "      <td>Est_Asia</td>\n",
       "    </tr>\n",
       "    <tr>\n",
       "      <th>1039</th>\n",
       "      <td>HGDP01070</td>\n",
       "      <td>F</td>\n",
       "      <td>Sardinian</td>\n",
       "      <td>Italy</td>\n",
       "      <td>Europe</td>\n",
       "      <td>Europe</td>\n",
       "    </tr>\n",
       "    <tr>\n",
       "      <th>1040</th>\n",
       "      <td>HGDP01376</td>\n",
       "      <td>M</td>\n",
       "      <td>French_Basque</td>\n",
       "      <td>France</td>\n",
       "      <td>Europe</td>\n",
       "      <td>Europe</td>\n",
       "    </tr>\n",
       "    <tr>\n",
       "      <th>1041</th>\n",
       "      <td>HGDP00671</td>\n",
       "      <td>M</td>\n",
       "      <td>Sardinian</td>\n",
       "      <td>Italy</td>\n",
       "      <td>Europe</td>\n",
       "      <td>Europe</td>\n",
       "    </tr>\n",
       "    <tr>\n",
       "      <th>1042</th>\n",
       "      <td>HGDP01024</td>\n",
       "      <td>F</td>\n",
       "      <td>Han</td>\n",
       "      <td>China</td>\n",
       "      <td>Asia</td>\n",
       "      <td>Est_Asia</td>\n",
       "    </tr>\n",
       "  </tbody>\n",
       "</table>\n",
       "<p>1043 rows × 6 columns</p>\n",
       "</div>"
      ],
      "text/plain": [
       "             ID Sex     population             geographic_origin  \\\n",
       "0     HGDP00448   M  Biaka_Pygmies      Central_African_Republic   \n",
       "1     HGDP00479   M  Biaka_Pygmies      Central_African_Republic   \n",
       "2     HGDP00985   M  Biaka_Pygmies      Central_African_Republic   \n",
       "3     HGDP01094   M  Biaka_Pygmies      Central_African_Republic   \n",
       "4     HGDP00982   M  Mbuti_Pygmies  Democratic_Republic_of_Congo   \n",
       "...         ...  ..            ...                           ...   \n",
       "1038  HGDP00953   M          Yakut                       Siberia   \n",
       "1039  HGDP01070   F      Sardinian                         Italy   \n",
       "1040  HGDP01376   M  French_Basque                        France   \n",
       "1041  HGDP00671   M      Sardinian                         Italy   \n",
       "1042  HGDP01024   F            Han                         China   \n",
       "\n",
       "                  region pop_group  \n",
       "0     Subsaharian_Africa    Africa  \n",
       "1     Subsaharian_Africa    Africa  \n",
       "2     Subsaharian_Africa    Africa  \n",
       "3     Subsaharian_Africa    Africa  \n",
       "4     Subsaharian_Africa    Africa  \n",
       "...                  ...       ...  \n",
       "1038                Asia  Est_Asia  \n",
       "1039              Europe    Europe  \n",
       "1040              Europe    Europe  \n",
       "1041              Europe    Europe  \n",
       "1042                Asia  Est_Asia  \n",
       "\n",
       "[1043 rows x 6 columns]"
      ]
     },
     "execution_count": 6,
     "metadata": {},
     "output_type": "execute_result"
    }
   ],
   "source": [
    "import pandas as pd\n",
    "import numpy as np\n",
    "\n",
    "pops = pd.read_csv(\"/home/shussain/popviz/pops.csv\")\n",
    "pops"
   ]
  },
  {
   "cell_type": "code",
   "execution_count": 13,
   "id": "67384bbe",
   "metadata": {},
   "outputs": [],
   "source": [
    "from tqdm import tqdm\n",
    "uniq = pops[\"pop_group\"].unique()"
   ]
  },
  {
   "cell_type": "code",
   "execution_count": 14,
   "id": "ed736db9",
   "metadata": {},
   "outputs": [
    {
     "name": "stderr",
     "output_type": "stream",
     "text": [
      "\n",
      "  0%|                                                                                                                                                                                 | 0/7 [00:00<?, ?it/s]\u001b[A\n",
      " 14%|████████████████████████▏                                                                                                                                                | 1/7 [00:02<00:15,  2.62s/it]\u001b[A\n",
      " 29%|████████████████████████████████████████████████▎                                                                                                                        | 2/7 [00:06<00:16,  3.32s/it]\u001b[A\n",
      " 43%|████████████████████████████████████████████████████████████████████████▍                                                                                                | 3/7 [00:12<00:17,  4.42s/it]\u001b[A\n",
      " 57%|████████████████████████████████████████████████████████████████████████████████████████████████▌                                                                        | 4/7 [00:17<00:14,  4.71s/it]\u001b[A\n",
      " 71%|████████████████████████████████████████████████████████████████████████████████████████████████████████████████████████▋                                                | 5/7 [00:18<00:06,  3.29s/it]\u001b[A\n",
      " 86%|████████████████████████████████████████████████████████████████████████████████████████████████████████████████████████████████████████████████▊                        | 6/7 [00:22<00:03,  3.83s/it]\u001b[A\n",
      "100%|█████████████████████████████████████████████████████████████████████████████████████████████████████████████████████████████████████████████████████████████████████████| 7/7 [00:25<00:00,  3.61s/it]\u001b[A\n"
     ]
    },
    {
     "data": {
      "text/plain": [
       "{'Africa': array([1.214876  , 0.18181819, 0.92561984, ..., 0.8595041 , 0.38016528,\n",
       "        0.14049587], dtype=float32),\n",
       " 'Middle_Est': array([0.52840906, 0.38636363, 0.4715909 , ..., 0.6818182 , 0.13068181,\n",
       "        0.09090909], dtype=float32),\n",
       " 'Central_South_Asia': array([0.47342995, 0.4299517 , 0.35748792, ..., 0.4009662 , 0.09661835,\n",
       "        0.06280193], dtype=float32),\n",
       " 'Est_Asia': array([0.19574468, 0.7404255 , 0.2       , ..., 0.3148936 , 0.0680851 ,\n",
       "        0.07234043], dtype=float32),\n",
       " 'Oceania': array([0.1388889 , 0.8611111 , 0.05555556, ..., 1.3333334 , 1.4444444 ,\n",
       "        1.3888888 ], dtype=float32),\n",
       " 'Europe': array([0.28125, 0.2125 , 0.36875, ..., 0.56875, 0.11875, 0.09375],\n",
       "       dtype=float32),\n",
       " 'America': array([0.5740741 , 0.17592593, 0.06481481, ..., 0.2037037 , 0.        ,\n",
       "        0.        ], dtype=float32)}"
      ]
     },
     "execution_count": 14,
     "metadata": {},
     "output_type": "execute_result"
    }
   ],
   "source": [
    "centroids = {pop_group: np.mean(bed[pops[\"pop_group\"] == pop_group, :], axis=0) for pop_group in tqdm(uniq)}\n",
    "centroids"
   ]
  },
  {
   "cell_type": "code",
   "execution_count": 21,
   "id": "072ec7d9",
   "metadata": {},
   "outputs": [
    {
     "name": "stderr",
     "output_type": "stream",
     "text": [
      "\n",
      "  0%|                                                                                                                                                                                 | 0/7 [00:00<?, ?it/s]\u001b[A\n",
      " 14%|████████████████████████▏                                                                                                                                                | 1/7 [00:02<00:17,  2.85s/it]\u001b[A\n",
      " 29%|████████████████████████████████████████████████▎                                                                                                                        | 2/7 [00:07<00:18,  3.77s/it]\u001b[A\n",
      " 43%|████████████████████████████████████████████████████████████████████████▍                                                                                                | 3/7 [00:12<00:16,  4.24s/it]\u001b[A\n",
      " 57%|████████████████████████████████████████████████████████████████████████████████████████████████▌                                                                        | 4/7 [00:17<00:13,  4.57s/it]\u001b[A\n",
      " 71%|████████████████████████████████████████████████████████████████████████████████████████████████████████████████████████▋                                                | 5/7 [00:17<00:06,  3.21s/it]\u001b[A\n",
      " 86%|████████████████████████████████████████████████████████████████████████████████████████████████████████████████████████████████████████████████▊                        | 6/7 [00:21<00:03,  3.29s/it]\u001b[A\n",
      "100%|█████████████████████████████████████████████████████████████████████████████████████████████████████████████████████████████████████████████████████████████████████████| 7/7 [00:23<00:00,  3.42s/it]\u001b[A\n"
     ]
    },
    {
     "data": {
      "text/plain": [
       "array([[1.214876  , 0.18181819, 0.92561984, ..., 0.8595041 , 0.38016528,\n",
       "        0.14049587],\n",
       "       [0.52840906, 0.38636363, 0.4715909 , ..., 0.6818182 , 0.13068181,\n",
       "        0.09090909],\n",
       "       [0.47342995, 0.4299517 , 0.35748792, ..., 0.4009662 , 0.09661835,\n",
       "        0.06280193],\n",
       "       ...,\n",
       "       [0.1388889 , 0.8611111 , 0.05555556, ..., 1.3333334 , 1.4444444 ,\n",
       "        1.3888888 ],\n",
       "       [0.28125   , 0.2125    , 0.36875   , ..., 0.56875   , 0.11875   ,\n",
       "        0.09375   ],\n",
       "       [0.5740741 , 0.17592593, 0.06481481, ..., 0.2037037 , 0.        ,\n",
       "        0.        ]], dtype=float32)"
      ]
     },
     "execution_count": 21,
     "metadata": {},
     "output_type": "execute_result"
    }
   ],
   "source": [
    "centroids_a = np.array([np.mean(bed[pops[\"pop_group\"] == pop_group, :], axis=0) for pop_group in tqdm(uniq)])\n",
    "centroids_a"
   ]
  },
  {
   "cell_type": "code",
   "execution_count": 22,
   "id": "887dddc2",
   "metadata": {},
   "outputs": [
    {
     "data": {
      "text/plain": [
       "array([[  0.      , 329.4949  , 345.3664  , 399.21698 , 442.31204 ,\n",
       "        370.41403 , 458.74387 ],\n",
       "       [329.4949  ,   0.      , 127.3427  , 286.02454 , 360.65277 ,\n",
       "        106.082924, 352.86133 ],\n",
       "       [345.3664  , 127.3427  ,   0.      , 228.49055 , 328.81387 ,\n",
       "        128.58296 , 310.36252 ],\n",
       "       [399.21698 , 286.02454 , 228.49055 ,   0.      , 324.15033 ,\n",
       "        286.49985 , 284.82816 ],\n",
       "       [442.31204 , 360.65277 , 328.81387 , 324.15033 ,   0.      ,\n",
       "        366.50424 , 409.24365 ],\n",
       "       [370.41403 , 106.082924, 128.58296 , 286.49985 , 366.50424 ,\n",
       "          0.      , 346.3085  ],\n",
       "       [458.74387 , 352.86133 , 310.36252 , 284.82816 , 409.24365 ,\n",
       "        346.3085  ,   0.      ]], dtype=float32)"
      ]
     },
     "execution_count": 22,
     "metadata": {},
     "output_type": "execute_result"
    }
   ],
   "source": [
    "from sklearn.metrics import pairwise_distances\n",
    "\n",
    "pw_centroid_dist = pairwise_distances(centroids_a)\n",
    "pw_centroid_dist"
   ]
  },
  {
   "cell_type": "code",
   "execution_count": 40,
   "id": "f33264f2",
   "metadata": {},
   "outputs": [
    {
     "data": {
      "image/png": "[encoded data removed]",
      "text/plain": [
       "<Figure size 720x720 with 2 Axes>"
      ]
     },
     "metadata": {
      "needs_background": "light"
     },
     "output_type": "display_data"
    }
   ],
   "source": [
    "import seaborn as sns\n",
    "import matplotlib.pyplot as plt\n",
    "\n",
    "plt.figure(figsize=(10, 10))\n",
    "sns.heatmap(pw_centroid_dist/795.42566, annot=True, xticklabels=uniq, yticklabels=uniq, cmap='afmhot')\n",
    "plt.savefig(\"heat.jpeg\")"
   ]
  },
  {
   "cell_type": "code",
   "execution_count": 19,
   "id": "dd1b738f",
   "metadata": {},
   "outputs": [
    {
     "data": {
      "text/plain": [
       "795.42566"
      ]
     },
     "execution_count": 19,
     "metadata": {},
     "output_type": "execute_result"
    }
   ],
   "source": [
    "dist = np.load(\"pw_euc_dist.npy\")\n",
    "max_d = np.max(dist)\n",
    "max_d"
   ]
  },
  {
   "cell_type": "code",
   "execution_count": 16,
   "id": "1040b40e",
   "metadata": {},
   "outputs": [
    {
     "data": {
      "text/plain": [
       "(631634,)"
      ]
     },
     "execution_count": 16,
     "metadata": {},
     "output_type": "execute_result"
    }
   ],
   "source": [
    "centroids[\"America\"].shape"
   ]
  }
 ],
 "metadata": {
  "kernelspec": {
   "display_name": "Python 3",
   "language": "python",
   "name": "python3"
  },
  "language_info": {
   "codemirror_mode": {
    "name": "ipython",
    "version": 3
   },
   "file_extension": ".py",
   "mimetype": "text/x-python",
   "name": "python",
   "nbconvert_exporter": "python",
   "pygments_lexer": "ipython3",
   "version": "3.7.9"
  }
 },
 "nbformat": 4,
 "nbformat_minor": 5
}
